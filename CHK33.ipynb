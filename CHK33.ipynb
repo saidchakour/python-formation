{
 "cells": [
  {
   "cell_type": "code",
   "execution_count": 1,
   "id": "d5a50240",
   "metadata": {},
   "outputs": [
    {
     "name": "stdout",
     "output_type": "stream",
     "text": [
      "ccc\n",
      "hhhh\n",
      "hhhh ccc\n"
     ]
    }
   ],
   "source": [
    "nom=input()\n",
    "prenom=input()\n",
    "print(prenom+\" \"+nom)\n",
    "\n"
   ]
  },
  {
   "cell_type": "code",
   "execution_count": 2,
   "id": "e3be5022",
   "metadata": {},
   "outputs": [
    {
     "name": "stdout",
     "output_type": "stream",
     "text": [
      "5\n",
      "60\n",
      "615\n"
     ]
    }
   ],
   "source": [
    "n=\"5\"\n",
    "s=0\n",
    "for i in range(1,4):\n",
    "    p=n*i\n",
    "    s=s+int(p)\n",
    "    print(s)"
   ]
  },
  {
   "cell_type": "code",
   "execution_count": null,
   "id": "3d79d085",
   "metadata": {},
   "outputs": [],
   "source": [
    "n=input()\n",
    "nb=input(n)\n",
    "k=nb%2\n",
    "if k==0:print(\"nombre pair\")\n",
    "else: print(\"nombre impair\")\n",
    "    "
   ]
  },
  {
   "cell_type": "code",
   "execution_count": 10,
   "id": "0ef16d2e",
   "metadata": {},
   "outputs": [
    {
     "name": "stdout",
     "output_type": "stream",
     "text": [
      "2030,2065,2100,2135,2170,2205,2240,2275,2310,2345,2380,2415,2450,2485,2520,2555,2590,2625,2660,2695,2730,2765,2800,2835,2870,2905,2940,2975,3010,3045,3080,3115,3150,3185,\n"
     ]
    }
   ],
   "source": [
    "ch=\"\"\n",
    "for i in range(2000,3201):\n",
    "    n=i%7\n",
    "    if n==0:\n",
    "        m=i%5\n",
    "        if m==0:\n",
    "            ch=ch+str(i)+\",\"                   \n",
    "               \n",
    "print(ch)"
   ]
  },
  {
   "cell_type": "markdown",
   "id": "eaa8c6cc",
   "metadata": {},
   "source": [
    "6\n"
   ]
  },
  {
   "cell_type": "code",
   "execution_count": 15,
   "id": "d75f839c",
   "metadata": {},
   "outputs": [
    {
     "name": "stdout",
     "output_type": "stream",
     "text": [
      "4\n",
      "24\n"
     ]
    }
   ],
   "source": [
    "m=int(input())\n",
    "s=1\n",
    "\n",
    "for i in range(1,m+1):\n",
    "    s=s*i\n",
    "print(s)"
   ]
  },
  {
   "cell_type": "code",
   "execution_count": 16,
   "id": "28c4d8da",
   "metadata": {},
   "outputs": [
    {
     "name": "stdout",
     "output_type": "stream",
     "text": [
      "hlota\n"
     ]
    }
   ],
   "source": [
    "ch=\"hello team\"\n",
    "ch2=\"\"\n",
    "for i in range(0,len(ch)):\n",
    "    if i%2==0:\n",
    "        ch2=ch2+ch[i]\n",
    "print(ch2)\n"
   ]
  },
  {
   "cell_type": "code",
   "execution_count": 13,
   "id": "a648be53",
   "metadata": {},
   "outputs": [
    {
     "name": "stdout",
     "output_type": "stream",
     "text": [
      "Donner chi l3ba3\n",
      "2.7\n"
     ]
    }
   ],
   "source": [
    "x=float(input(\"Donner chi l3ba\"))\n",
    "r=0\n",
    "if x>500:\n",
    "    r=x-x*0.5\n",
    "elif (x<500 and x>200):\n",
    "        r=x-x*0.3\n",
    "else: r=x-x*0.1\n",
    "   \n",
    "print(r)\n"
   ]
  },
  {
   "cell_type": "code",
   "execution_count": null,
   "id": "94e9eb8d",
   "metadata": {},
   "outputs": [],
   "source": []
  },
  {
   "cell_type": "code",
   "execution_count": null,
   "id": "9d5d250a",
   "metadata": {},
   "outputs": [],
   "source": []
  }
 ],
 "metadata": {
  "kernelspec": {
   "display_name": "Python 3 (ipykernel)",
   "language": "python",
   "name": "python3"
  },
  "language_info": {
   "codemirror_mode": {
    "name": "ipython",
    "version": 3
   },
   "file_extension": ".py",
   "mimetype": "text/x-python",
   "name": "python",
   "nbconvert_exporter": "python",
   "pygments_lexer": "ipython3",
   "version": "3.9.13"
  }
 },
 "nbformat": 4,
 "nbformat_minor": 5
}
