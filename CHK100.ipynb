{
 "cells": [
  {
   "cell_type": "code",
   "execution_count": 3,
   "id": "57acb82f",
   "metadata": {},
   "outputs": [
    {
     "name": "stdout",
     "output_type": "stream",
     "text": [
      "36\n"
     ]
    }
   ],
   "source": [
    "from operator import*\n",
    "list1 = [2, 3,6]\n",
    "m = 1\n",
    "for i in list1:\n",
    "  # multiplying all elements in the given list\n",
    "  # using mul function of operator module\n",
    "    m = mul(i, m)\n",
    "# printing the result\n",
    "print(m)\n"
   ]
  },
  {
   "cell_type": "code",
   "execution_count": 4,
   "id": "25f6759a",
   "metadata": {},
   "outputs": [
    {
     "name": "stdout",
     "output_type": "stream",
     "text": [
      "{'a': 400, 'b': 400, 'c': 300, 'd': 400}\n"
     ]
    }
   ],
   "source": [
    "# Python program to combine two dictionary\n",
    "# adding values for common keys\n",
    "import itertools\n",
    "import collections\n",
    " \n",
    "# initializing two dictionaries\n",
    "dict1 = {'a' : 100, 'b' : 200, 'c' : 300}\n",
    "dict2 = {'a' : 300, 'b' : 200, 'd' : 400}\n",
    " \n",
    "# using defaultdict\n",
    "Cdict = collections.defaultdict(int)\n",
    " \n",
    "# iterating key, val with chain()\n",
    "for key, val in itertools.chain(dict1.items(), dict2.items()):\n",
    "    Cdict[key] += val\n",
    "     \n",
    "print(dict(Cdict))"
   ]
  },
  {
   "cell_type": "code",
   "execution_count": 5,
   "id": "14b19621",
   "metadata": {},
   "outputs": [
    {
     "name": "stdout",
     "output_type": "stream",
     "text": [
      "[(1, 2), (2, 1), (2, 3), (2, 5), (4, 4)]\n"
     ]
    }
   ],
   "source": [
    "L=[(2, 5), (1, 2), (4, 4), (2, 3), (2, 1)]\n",
    "L.sort()\n",
    "print(L)"
   ]
  },
  {
   "cell_type": "code",
   "execution_count": 11,
   "id": "2a925288",
   "metadata": {},
   "outputs": [
    {
     "name": "stdout",
     "output_type": "stream",
     "text": [
      "[('item3', '24.5'), ('item2', '15.10'), ('item1', '12.20')]\n"
     ]
    }
   ],
   "source": [
    "L = [('item1', '12.20'), ('item2', '15.10'), ('item3', '24.5')]\n",
    "L.sort (reverse=True)\n",
    "# Affichage du tuple trié\n",
    "print(L)"
   ]
  },
  {
   "cell_type": "code",
   "execution_count": null,
   "id": "687ce140",
   "metadata": {},
   "outputs": [],
   "source": []
  }
 ],
 "metadata": {
  "kernelspec": {
   "display_name": "Python 3 (ipykernel)",
   "language": "python",
   "name": "python3"
  },
  "language_info": {
   "codemirror_mode": {
    "name": "ipython",
    "version": 3
   },
   "file_extension": ".py",
   "mimetype": "text/x-python",
   "name": "python",
   "nbconvert_exporter": "python",
   "pygments_lexer": "ipython3",
   "version": "3.9.13"
  }
 },
 "nbformat": 4,
 "nbformat_minor": 5
}
